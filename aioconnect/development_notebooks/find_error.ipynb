{
 "metadata": {
  "language_info": {
   "codemirror_mode": {
    "name": "ipython",
    "version": 3
   },
   "file_extension": ".py",
   "mimetype": "text/x-python",
   "name": "python",
   "nbconvert_exporter": "python",
   "pygments_lexer": "ipython3",
   "version": "3.7.10"
  },
  "orig_nbformat": 2,
  "kernelspec": {
   "name": "python3710jvsc74a57bd03da63dbd1f0d1b07531855ebcb18486708eb0339f0c9349344d101383a5f4af6",
   "display_name": "Python 3.7.10 64-bit ('env_aioconnect': conda)"
  },
  "metadata": {
   "interpreter": {
    "hash": "3da63dbd1f0d1b07531855ebcb18486708eb0339f0c9349344d101383a5f4af6"
   }
  }
 },
 "nbformat": 4,
 "nbformat_minor": 2,
 "cells": [
  {
   "cell_type": "code",
   "execution_count": null,
   "metadata": {},
   "outputs": [],
   "source": []
  }
 ]
}